{
  "nbformat": 4,
  "nbformat_minor": 0,
  "metadata": {
    "colab": {
      "name": "Creating and deploying Machine Learning model using Python in Docker container.ipynb",
      "provenance": [],
      "authorship_tag": "ABX9TyOq2tArvk3EgJjQs7kcpm4A"
    },
    "kernelspec": {
      "name": "python3",
      "display_name": "Python 3"
    },
    "language_info": {
      "name": "python"
    }
  },
  "cells": [
    {
      "cell_type": "markdown",
      "metadata": {
        "id": "2Gpc6qEsDie1"
      },
      "source": [
        "[Reference](https://medium.com/geekculture/creating-and-deploying-machine-learning-model-using-python-in-docker-container-819e62cce122)"
      ]
    },
    {
      "cell_type": "code",
      "metadata": {
        "id": "KrwxdaHiCak8"
      },
      "source": [
        "import pandas as pd"
      ],
      "execution_count": 1,
      "outputs": []
    },
    {
      "cell_type": "code",
      "metadata": {
        "id": "JRjiMKbbCown"
      },
      "source": [
        "df = pd.read_csv('https://raw.githubusercontent.com/gursimarh/lw-summer-program/main/Task%201/SalaryData.csv')"
      ],
      "execution_count": 2,
      "outputs": []
    },
    {
      "cell_type": "code",
      "metadata": {
        "colab": {
          "base_uri": "https://localhost:8080/"
        },
        "id": "IdXt6b8oCqwh",
        "outputId": "227dec44-e4fa-4dd7-d893-04730fa0b35d"
      },
      "source": [
        "df.columns"
      ],
      "execution_count": 4,
      "outputs": [
        {
          "output_type": "execute_result",
          "data": {
            "text/plain": [
              "Index(['YearsExperience', 'Salary'], dtype='object')"
            ]
          },
          "metadata": {},
          "execution_count": 4
        }
      ]
    },
    {
      "cell_type": "code",
      "metadata": {
        "id": "p4LxeZkyCra1"
      },
      "source": [
        "x=df['YearsExperience']\n",
        "y=df['Salary']"
      ],
      "execution_count": 5,
      "outputs": []
    },
    {
      "cell_type": "code",
      "metadata": {
        "id": "lpr6KVCgCwuk"
      },
      "source": [
        "x=x.values\n",
        "x=x.reshape(-1,1)"
      ],
      "execution_count": 6,
      "outputs": []
    },
    {
      "cell_type": "code",
      "metadata": {
        "colab": {
          "base_uri": "https://localhost:8080/"
        },
        "id": "qi_iWS_3C0dW",
        "outputId": "e51d2b91-ee0b-4fac-c9f0-4c0832f5a164"
      },
      "source": [
        "from sklearn.linear_model import LinearRegression\n",
        "\n",
        "model = LinearRegression()\n",
        "model.fit(x,y)\n",
        "model.predict([[9.2]])"
      ],
      "execution_count": 8,
      "outputs": [
        {
          "output_type": "execute_result",
          "data": {
            "text/plain": [
              "array([112731.85355606])"
            ]
          },
          "metadata": {},
          "execution_count": 8
        }
      ]
    },
    {
      "cell_type": "code",
      "metadata": {
        "colab": {
          "base_uri": "https://localhost:8080/"
        },
        "id": "7E_H-YDkC8Ck",
        "outputId": "0318901b-1afe-463b-b7ae-a31301522ab9"
      },
      "source": [
        "import joblib\n",
        "joblib.dump(model,'salary.pk')"
      ],
      "execution_count": 10,
      "outputs": [
        {
          "output_type": "execute_result",
          "data": {
            "text/plain": [
              "['salary.pk']"
            ]
          },
          "metadata": {},
          "execution_count": 10
        }
      ]
    },
    {
      "cell_type": "markdown",
      "metadata": {
        "id": "Osq42Pg7DGAb"
      },
      "source": [
        "```\n",
        "# Check Docker is Installed or not\n",
        "$ docker info\n",
        "# Now, let us install docker\n",
        "$ yum install docker-ce\n",
        "# Check if the docker is running\n",
        "$ systemctl status docker\n",
        "# Downloading Centos:Latest Image from Docker Hub:\n",
        "$ docker pull centos:latest\n",
        "\n",
        "# Create a Container with the help of Centos image\n",
        "$ docker run -it --name=salary_prediction centos:latest\n",
        "\n",
        "# Downloading Python in the container\n",
        "$ yum install python3\n",
        "\n",
        "# Run the following commands, (if there is an error, please type in codes below:\n",
        "$ firewall-cmd --zone=public --add-masquerade --permanent\n",
        "$ firewall-cmd --zone=public --add-port=80/tcp\n",
        "$ firewall-cmd --zone=public --add-port=443/tcp\n",
        "$ firewall-cmd --reload\n",
        "$ systemctl restart docker\n",
        "\n",
        "# Installing the depended libraries\n",
        "$ pip3 install numpy\n",
        "$ pip3 install pandas\n",
        "$ pip3 install scikit-learn\n",
        "\n",
        "# Copying the model to the container\n",
        "$ docker cp salary.pk1 Salary_prediction:/salary.pk1\n",
        "\n",
        "# Create a Model file\n",
        "$ vi model.py\n",
        "import joblib\n",
        "model = joblib.load(\"salary.pk1\")\n",
        "n = int(input(\"Enter the number of years of experience))\n",
        "print(model.predict([[n]])\n",
        "\n",
        "# Run the model\n",
        "$ python3 model.py\n",
        "```"
      ]
    }
  ]
}